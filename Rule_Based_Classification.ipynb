{
 "cells": [
  {
   "cell_type": "markdown",
   "id": "1a1a2edf-ca67-4483-b8ba-1ab505469746",
   "metadata": {},
   "source": [
    "# Rule Based Classification For Potential Income of New Customers"
   ]
  },
  {
   "cell_type": "code",
   "execution_count": null,
   "id": "000dd376-89fe-4106-b1b7-d3fb6082e477",
   "metadata": {},
   "outputs": [],
   "source": []
  }
 ],
 "metadata": {
  "kernelspec": {
   "display_name": "Python 3 (ipykernel)",
   "language": "python",
   "name": "python3"
  },
  "language_info": {
   "codemirror_mode": {
    "name": "ipython",
    "version": 3
   },
   "file_extension": ".py",
   "mimetype": "text/x-python",
   "name": "python",
   "nbconvert_exporter": "python",
   "pygments_lexer": "ipython3",
   "version": "3.9.7"
  }
 },
 "nbformat": 4,
 "nbformat_minor": 5
}
